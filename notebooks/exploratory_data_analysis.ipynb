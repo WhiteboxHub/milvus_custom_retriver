{
 "cells": [
  {
   "cell_type": "code",
   "execution_count": 1,
   "metadata": {},
   "outputs": [],
   "source": [
    "import numpy as np\n",
    "from src.milvus_client import milvus_insert_data\n",
    "from pymilvus import Collection"
   ]
  },
  {
   "cell_type": "code",
   "execution_count": 4,
   "metadata": {},
   "outputs": [
    {
     "name": "stdout",
     "output_type": "stream",
     "text": [
      "True --------------------------------------------------------------------------------------------------------------------------------------------------------------------------------------------------------\n",
      "True --------------------------------------------------------------------------------------------------------------------------------------------------------------------------------------------------------\n"
     ]
    },
    {
     "data": {
      "text/plain": [
       "(insert count: 1, delete count: 0, upsert count: 0, timestamp: 456810950237093891, success count: 1, err count: 0"
      ]
     },
     "execution_count": 4,
     "metadata": {},
     "output_type": "execute_result"
    }
   ],
   "source": [
    "float_list = np.random.rand(768)\n",
    "data = {\n",
    "    \"filename\": \"test_file_name\",\n",
    "    \"text\": \"This is a test case document.\",\n",
    "    \"embeddings\": float_list,\n",
    "}\n",
    "\n",
    "insertion = milvus_insert_data(\n",
    "    file_name=data[\"filename\"], doc=data[\"text\"], doc_embeding=data[\"embeddings\"]\n",
    ")\n",
    "insertion"
   ]
  },
  {
   "cell_type": "code",
   "execution_count": 5,
   "metadata": {},
   "outputs": [
    {
     "data": {
      "text/plain": [
       "61"
      ]
     },
     "execution_count": 5,
     "metadata": {},
     "output_type": "execute_result"
    }
   ],
   "source": [
    "collection  = Collection(\"ml_pdf_data\")\n",
    "\n",
    "collection.num_entities"
   ]
  },
  {
   "cell_type": "code",
   "execution_count": null,
   "metadata": {},
   "outputs": [],
   "source": []
  },
  {
   "cell_type": "code",
   "execution_count": null,
   "metadata": {},
   "outputs": [],
   "source": []
  }
 ],
 "metadata": {
  "kernelspec": {
   "display_name": "myenv",
   "language": "python",
   "name": "python3"
  },
  "language_info": {
   "codemirror_mode": {
    "name": "ipython",
    "version": 3
   },
   "file_extension": ".py",
   "mimetype": "text/x-python",
   "name": "python",
   "nbconvert_exporter": "python",
   "pygments_lexer": "ipython3",
   "version": "3.10.11"
  }
 },
 "nbformat": 4,
 "nbformat_minor": 2
}
