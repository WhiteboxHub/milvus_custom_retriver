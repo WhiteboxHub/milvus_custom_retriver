{
 "cells": [
  {
   "cell_type": "code",
   "execution_count": null,
   "metadata": {},
   "outputs": [],
   "source": [
    "%pip install pymilvus SentenceTransformer"
   ]
  },
  {
   "cell_type": "code",
   "execution_count": 2,
   "metadata": {},
   "outputs": [],
   "source": [
    "\n",
    "from pymilvus import (connections,\n",
    "                      utility,\n",
    "                      FieldSchema,\n",
    "                      CollectionSchema,\n",
    "                      DataType,\n",
    "                      Collection)\n",
    "collection_name = \"aka_milvus\"\n",
    "# utility.drop_collection(collection_name)\n"
   ]
  },
  {
   "cell_type": "code",
   "execution_count": null,
   "metadata": {},
   "outputs": [],
   "source": [
    "\n",
    "\n",
    "\n",
    "connections.connect('default',host=\"localhost\",port=\"19530\")\n",
    "\n",
    "\n",
    "fields = [\n",
    "    FieldSchema(name='pk', dtype=DataType.INT64, is_primary=True, auto_id= True),\n",
    "    FieldSchema(name='random', dtype=DataType.DOUBLE),\n",
    "    FieldSchema(name='embeddings', dtype=DataType.FLOAT_VECTOR,dim=768),\n",
    "    FieldSchema(name='text', dtype=DataType.VARCHAR , max_length = 500),\n",
    "    # FieldSchema(name='filename', dtype=DataType.VARCHAR , max_length = 500),\n",
    "    # FieldSchema(name='categorie', dtype=DataType.VARCHAR , max_length = 500),\n",
    "]\n",
    "\n",
    "\n",
    "schema = CollectionSchema(fields,\"this is aks text\")\n",
    "\n",
    "milvusdb = Collection(collection_name,schema)\n",
    "\n"
   ]
  },
  {
   "cell_type": "code",
   "execution_count": 94,
   "metadata": {},
   "outputs": [],
   "source": [
    "import random"
   ]
  },
  {
   "cell_type": "code",
   "execution_count": 95,
   "metadata": {},
   "outputs": [
    {
     "name": "stdout",
     "output_type": "stream",
     "text": [
      "768\n"
     ]
    }
   ],
   "source": [
    "from sentence_transformers import SentenceTransformer\n",
    "\n",
    "\n",
    "texts = [\n",
    "    \"this is a first test case on the milvus db where it doesn't support windows for milvus lite\",\n",
    "    \"this is the second test case on milvus where you can use milvus standalone in windows. but failed due to wsl 2 distro setting config\",\n",
    "    \"this is the third test case on milvus using it on vmware with kali linux idk how it works but i gave up on it in half way.\",\n",
    "    \"this is the forth test case on milvus using on windows with standalone in docker run successfuly on sample code by milvus docs.\",\n",
    "    \"this is the fifth test case on  milus using standalone via docker to store text and embeddings in the milvus db. idk how it will turn out coz iam still not done yet.\"\n",
    "]\n",
    "\n",
    "text_embed = []\n",
    "model = SentenceTransformer('all-mpnet-base-v2')\n",
    "for t in texts:\n",
    "    text_embed.append(model.encode(t))\n",
    "\n",
    "print(len(text_embed[0]))\n",
    "\n"
   ]
  },
  {
   "cell_type": "code",
   "execution_count": 96,
   "metadata": {},
   "outputs": [],
   "source": [
    "insert_data = [\n",
    "    [i for i in range(len(texts))],\n",
    "    [float(random.randrange(-20, -10)) for _ in range(len(texts))],\n",
    "    [emb for emb in text_embed],\n",
    "    [text for text in texts]\n",
    "]"
   ]
  },
  {
   "cell_type": "code",
   "execution_count": 97,
   "metadata": {},
   "outputs": [],
   "source": [
    "inserting = milvusdb.insert(insert_data)\n",
    "milvusdb.flush()"
   ]
  },
  {
   "cell_type": "code",
   "execution_count": 101,
   "metadata": {},
   "outputs": [],
   "source": [
    "# index = {\n",
    "#     \"index_type\": \"IVF_FLAT\",\n",
    "#     \"metric_type\": \"L2\",\n",
    "#     \"params\": {\"nlist\": 128},\n",
    "# }\n",
    "\n",
    "index = {\n",
    "    \"index_type\": \"HNSW\",\n",
    "    \"metric_type\": \"L2\",\n",
    "    \"params\": {\"M\": 16, \"efConstruction\": 200}\n",
    "}"
   ]
  },
  {
   "cell_type": "code",
   "execution_count": 104,
   "metadata": {},
   "outputs": [
    {
     "data": {
      "text/plain": [
       "Status(code=0, message=)"
      ]
     },
     "execution_count": 104,
     "metadata": {},
     "output_type": "execute_result"
    }
   ],
   "source": [
    "milvusdb.create_index(\"embeddings\", index)"
   ]
  },
  {
   "cell_type": "code",
   "execution_count": 105,
   "metadata": {},
   "outputs": [],
   "source": [
    "milvusdb.load()\n",
    "\n",
    "search_text = \"which test case did the following milus using standalone via docker to store text\"\n",
    "search_embed = model.encode(search_text)\n"
   ]
  },
  {
   "cell_type": "code",
   "execution_count": 106,
   "metadata": {},
   "outputs": [],
   "source": [
    "search_params = {\n",
    "    \"metric_type\": \"L2\",\n",
    "    \"params\": {\"nprobe\": 100},\n",
    "}"
   ]
  },
  {
   "cell_type": "code",
   "execution_count": 107,
   "metadata": {},
   "outputs": [
    {
     "data": {
      "text/plain": [
       "data: ['[\"pk: 4, distance: 0.43936729431152344, entity: {\\'text\\': \\'this is the fifth test case on  milus using standalone via docker to store text and embeddings in the milvus db. idk how it will turn out coz iam still not done yet.\\'}\", \"pk: 3, distance: 0.7304867506027222, entity: {\\'text\\': \\'this is the forth test case on milvus using on windows with standalone in docker run successfuly on sample code by milvus docs.\\'}\", \"pk: 2, distance: 1.1145399808883667, entity: {\\'text\\': \\'this is the third test case on milvus using it on vmware with kali linux idk how it works but i gave up on it in half way.\\'}\", \"pk: 1, distance: 1.2889277935028076, entity: {\\'text\\': \\'this is the second test case on milvus where you can use milvus standalone in windows. but failed due to wsl 2 distro setting config\\'}\", \\'pk: 0, distance: 1.4334330558776855, entity: {\\\\\\'text\\\\\\': \"this is a first test case on the milvus db where it doesn\\\\\\'t support windows for milvus lite\"}\\']']"
      ]
     },
     "execution_count": 107,
     "metadata": {},
     "output_type": "execute_result"
    }
   ],
   "source": [
    "result = milvusdb.search([search_embed],\"embeddings\",search_params, limit=5, output_fields=[\"text\"])\n",
    "result"
   ]
  },
  {
   "cell_type": "code",
   "execution_count": 110,
   "metadata": {},
   "outputs": [
    {
     "name": "stdout",
     "output_type": "stream",
     "text": [
      "pk: 4, distance: 0.43936729431152344, entity: {'text': 'this is the fifth test case on  milus using standalone via docker to store text and embeddings in the milvus db. idk how it will turn out coz iam still not done yet.'}\n",
      "pk: 3, distance: 0.7304867506027222, entity: {'text': 'this is the forth test case on milvus using on windows with standalone in docker run successfuly on sample code by milvus docs.'}\n",
      "pk: 2, distance: 1.1145399808883667, entity: {'text': 'this is the third test case on milvus using it on vmware with kali linux idk how it works but i gave up on it in half way.'}\n",
      "pk: 1, distance: 1.2889277935028076, entity: {'text': 'this is the second test case on milvus where you can use milvus standalone in windows. but failed due to wsl 2 distro setting config'}\n",
      "pk: 0, distance: 1.4334330558776855, entity: {'text': \"this is a first test case on the milvus db where it doesn't support windows for milvus lite\"}\n"
     ]
    }
   ],
   "source": [
    "import json\n",
    "for res in result:\n",
    "    for i in res:\n",
    "        print(i)"
   ]
  },
  {
   "cell_type": "code",
   "execution_count": null,
   "metadata": {},
   "outputs": [],
   "source": []
  },
  {
   "cell_type": "code",
   "execution_count": null,
   "metadata": {},
   "outputs": [],
   "source": []
  }
 ],
 "metadata": {
  "kernelspec": {
   "display_name": "myenv",
   "language": "python",
   "name": "python3"
  },
  "language_info": {
   "codemirror_mode": {
    "name": "ipython",
    "version": 3
   },
   "file_extension": ".py",
   "mimetype": "text/x-python",
   "name": "python",
   "nbconvert_exporter": "python",
   "pygments_lexer": "ipython3",
   "version": "3.10.11"
  }
 },
 "nbformat": 4,
 "nbformat_minor": 2
}
